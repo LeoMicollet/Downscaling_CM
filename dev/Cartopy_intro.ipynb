{
 "cells": [
  {
   "cell_type": "markdown",
   "metadata": {},
   "source": [
    "# Cartopy introduction\n"
   ]
  },
  {
   "cell_type": "markdown",
   "metadata": {},
   "source": [
    "Still following the same link"
   ]
  },
  {
   "cell_type": "code",
   "execution_count": 5,
   "metadata": {},
   "outputs": [],
   "source": [
    "import numpy as np\n",
    "import xarray as xr\n",
    "import os\n",
    "from matplotlib import pyplot as plt\n",
    "%matplotlib inline\n",
    "import cartopy.crs as ccrs\n",
    "import cartopy\n",
    "\n",
    "path = \"/work/FAC/FGSE/IDYST/tbeucler/downscaling/HadGEM_driven_COSMO/Present/2003\"\n",
    "os.chdir(path)"
   ]
  },
  {
   "cell_type": "code",
   "execution_count": 9,
   "metadata": {},
   "outputs": [
    {
     "data": {
      "text/plain": [
       "<xarray.Dataset>\n",
       "Dimensions:       (bnds: 2, level1: 61, rlat: 1542, rlon: 1542, soil1: 10, srlat: 1542, srlon: 1542, time: 1)\n",
       "Coordinates:\n",
       "  * time          (time) datetime64[ns] 2003-01-01T03:00:00\n",
       "  * rlon          (rlon) float32 -18.86 -18.84 -18.82 ... 11.92 11.94 11.96\n",
       "  * rlat          (rlat) float32 -14.86 -14.84 -14.82 ... 15.92 15.94 15.96\n",
       "  * srlon         (srlon) float32 -18.85 -18.83 -18.81 ... 11.93 11.95 11.97\n",
       "  * srlat         (srlat) float32 -14.85 -14.83 -14.81 ... 15.93 15.95 15.97\n",
       "    lon           (rlat, rlon) float32 ...\n",
       "    lat           (rlat, rlon) float32 ...\n",
       "    height_2m     float32 ...\n",
       "    height_10m    float32 ...\n",
       "  * soil1         (soil1) float32 0.005 0.025 0.07 0.16 ... 1.47 2.86 5.74 11.5\n",
       "Dimensions without coordinates: bnds, level1\n",
       "Data variables:\n",
       "    time_bnds     (time, bnds) datetime64[ns] ...\n",
       "    rotated_pole  |S1 ...\n",
       "    slonu         (rlat, srlon) float32 ...\n",
       "    slatu         (rlat, srlon) float32 ...\n",
       "    slonv         (srlat, rlon) float32 ...\n",
       "    slatv         (srlat, rlon) float32 ...\n",
       "    vcoord        (level1) float32 ...\n",
       "    height_toa    float32 ...\n",
       "    wbt_13c       float32 ...\n",
       "    soil1_bnds    (soil1, bnds) float32 ...\n",
       "    U_10M         (time, rlat, rlon) float32 ...\n",
       "    V_10M         (time, rlat, rlon) float32 ...\n",
       "    T_2M          (time, rlat, rlon) float32 ...\n",
       "    T_G           (time, rlat, rlon) float32 ...\n",
       "    RELHUM_2M     (time, rlat, rlon) float32 ...\n",
       "    PS            (time, rlat, rlon) float32 ...\n",
       "    QV_2M         (time, rlat, rlon) float32 ...\n",
       "    QCVG_CON      (time, rlat, rlon) float32 ...\n",
       "    TOT_PR        (time, rlat, rlon) float32 ...\n",
       "    TQC           (time, rlat, rlon) float32 ...\n",
       "    TQI           (time, rlat, rlon) float32 ...\n",
       "    TQV           (time, rlat, rlon) float32 ...\n",
       "    CAPE_ML       (time, rlat, rlon) float32 ...\n",
       "    CIN_ML        (time, rlat, rlon) float32 ...\n",
       "    HPBL          (time, rlat, rlon) float32 ...\n",
       "    RUNOFF_S      (time, rlat, rlon) float32 ...\n",
       "    RUNOFF_G      (time, rlat, rlon) float32 ...\n",
       "    VMAX_10M      (time, rlat, rlon) float32 ...\n",
       "Attributes:\n",
       "    title:           CLM driven by EraINT\n",
       "    source:          COSMO_5.X_pompa\n",
       "    experiment_id:   evaluation\n",
       "    realization:     1\n",
       "    Conventions:     CF-1.4\n",
       "    conventionsURL:  http://www.cfconventions.org/\n",
       "    creation_date:   2019-03-12 09:10:11"
      ]
     },
     "execution_count": 9,
     "metadata": {},
     "output_type": "execute_result"
    }
   ],
   "source": [
    "pres_rand = xr.open_dataset(\"lffd20030101030000.nc\")\n",
    "latitude = 201\n",
    "longitude = 464\n",
    "pres_rand"
   ]
  },
  {
   "cell_type": "code",
   "execution_count": 12,
   "metadata": {},
   "outputs": [
    {
     "ename": "AttributeError",
     "evalue": "'int' object has no attribute 'semimajor_axis'",
     "output_type": "error",
     "traceback": [
      "\u001b[0;31m---------------------------------------------------------------------------\u001b[0m",
      "\u001b[0;31mAttributeError\u001b[0m                            Traceback (most recent call last)",
      "\u001b[0;32m<ipython-input-12-69ffc1fd8b72>\u001b[0m in \u001b[0;36m<module>\u001b[0;34m\u001b[0m\n\u001b[1;32m      1\u001b[0m \u001b[0mHUM\u001b[0m \u001b[0;34m=\u001b[0m \u001b[0mpres_rand\u001b[0m\u001b[0;34m.\u001b[0m\u001b[0mRELHUM_2M\u001b[0m\u001b[0;34m.\u001b[0m\u001b[0msel\u001b[0m\u001b[0;34m(\u001b[0m\u001b[0mtime\u001b[0m\u001b[0;34m=\u001b[0m\u001b[0;34m'2003-01-01T03:00:00'\u001b[0m\u001b[0;34m,\u001b[0m \u001b[0mmethod\u001b[0m\u001b[0;34m=\u001b[0m\u001b[0;34m'nearest'\u001b[0m\u001b[0;34m)\u001b[0m\u001b[0;34m\u001b[0m\u001b[0;34m\u001b[0m\u001b[0m\n\u001b[1;32m      2\u001b[0m \u001b[0mfig\u001b[0m \u001b[0;34m=\u001b[0m \u001b[0mplt\u001b[0m\u001b[0;34m.\u001b[0m\u001b[0mfigure\u001b[0m\u001b[0;34m(\u001b[0m\u001b[0mfigsize\u001b[0m\u001b[0;34m=\u001b[0m\u001b[0;34m(\u001b[0m\u001b[0;36m9\u001b[0m\u001b[0;34m,\u001b[0m\u001b[0;36m6\u001b[0m\u001b[0;34m)\u001b[0m\u001b[0;34m)\u001b[0m\u001b[0;34m\u001b[0m\u001b[0;34m\u001b[0m\u001b[0m\n\u001b[0;32m----> 3\u001b[0;31m \u001b[0max\u001b[0m \u001b[0;34m=\u001b[0m \u001b[0mplt\u001b[0m\u001b[0;34m.\u001b[0m\u001b[0maxes\u001b[0m\u001b[0;34m(\u001b[0m\u001b[0mprojection\u001b[0m\u001b[0;34m=\u001b[0m\u001b[0mccrs\u001b[0m\u001b[0;34m.\u001b[0m\u001b[0mPlateCarree\u001b[0m\u001b[0;34m(\u001b[0m\u001b[0mlatitude\u001b[0m\u001b[0;34m,\u001b[0m\u001b[0mlongitude\u001b[0m\u001b[0;34m)\u001b[0m\u001b[0;34m)\u001b[0m\u001b[0;34m\u001b[0m\u001b[0;34m\u001b[0m\u001b[0m\n\u001b[0m\u001b[1;32m      4\u001b[0m \u001b[0max\u001b[0m\u001b[0;34m.\u001b[0m\u001b[0mset_extent\u001b[0m\u001b[0;34m(\u001b[0m\u001b[0;34m)\u001b[0m\u001b[0;34m\u001b[0m\u001b[0;34m\u001b[0m\u001b[0m\n\u001b[1;32m      5\u001b[0m \u001b[0max\u001b[0m\u001b[0;34m.\u001b[0m\u001b[0mcoastlines\u001b[0m\u001b[0;34m(\u001b[0m\u001b[0;34m)\u001b[0m\u001b[0;34m\u001b[0m\u001b[0;34m\u001b[0m\u001b[0m\n",
      "\u001b[0;32m/work/FAC/FGSE/IDYST/tbeucler/downscaling/Downscaling_CM/env/lib/python3.7/site-packages/cartopy/crs.py\u001b[0m in \u001b[0;36m__init__\u001b[0;34m(self, central_longitude, globe)\u001b[0m\n\u001b[1;32m    708\u001b[0m         \u001b[0;32mif\u001b[0m \u001b[0mglobe\u001b[0m \u001b[0;32mis\u001b[0m \u001b[0;32mNone\u001b[0m\u001b[0;34m:\u001b[0m\u001b[0;34m\u001b[0m\u001b[0;34m\u001b[0m\u001b[0m\n\u001b[1;32m    709\u001b[0m             \u001b[0mglobe\u001b[0m \u001b[0;34m=\u001b[0m \u001b[0mGlobe\u001b[0m\u001b[0;34m(\u001b[0m\u001b[0msemimajor_axis\u001b[0m\u001b[0;34m=\u001b[0m\u001b[0mmath\u001b[0m\u001b[0;34m.\u001b[0m\u001b[0mdegrees\u001b[0m\u001b[0;34m(\u001b[0m\u001b[0;36m1\u001b[0m\u001b[0;34m)\u001b[0m\u001b[0;34m)\u001b[0m\u001b[0;34m\u001b[0m\u001b[0;34m\u001b[0m\u001b[0m\n\u001b[0;32m--> 710\u001b[0;31m         \u001b[0ma_rad\u001b[0m \u001b[0;34m=\u001b[0m \u001b[0mmath\u001b[0m\u001b[0;34m.\u001b[0m\u001b[0mradians\u001b[0m\u001b[0;34m(\u001b[0m\u001b[0mglobe\u001b[0m\u001b[0;34m.\u001b[0m\u001b[0msemimajor_axis\u001b[0m \u001b[0;32mor\u001b[0m \u001b[0mWGS84_SEMIMAJOR_AXIS\u001b[0m\u001b[0;34m)\u001b[0m\u001b[0;34m\u001b[0m\u001b[0;34m\u001b[0m\u001b[0m\n\u001b[0m\u001b[1;32m    711\u001b[0m         \u001b[0mx_max\u001b[0m \u001b[0;34m=\u001b[0m \u001b[0ma_rad\u001b[0m \u001b[0;34m*\u001b[0m \u001b[0;36m180\u001b[0m\u001b[0;34m\u001b[0m\u001b[0;34m\u001b[0m\u001b[0m\n\u001b[1;32m    712\u001b[0m         \u001b[0my_max\u001b[0m \u001b[0;34m=\u001b[0m \u001b[0ma_rad\u001b[0m \u001b[0;34m*\u001b[0m \u001b[0;36m90\u001b[0m\u001b[0;34m\u001b[0m\u001b[0;34m\u001b[0m\u001b[0m\n",
      "\u001b[0;31mAttributeError\u001b[0m: 'int' object has no attribute 'semimajor_axis'"
     ]
    },
    {
     "data": {
      "text/plain": [
       "<Figure size 648x432 with 0 Axes>"
      ]
     },
     "metadata": {},
     "output_type": "display_data"
    }
   ],
   "source": []
  }
 ],
 "metadata": {
  "kernelspec": {
   "display_name": "Python 3",
   "language": "python",
   "name": "python3"
  },
  "language_info": {
   "codemirror_mode": {
    "name": "ipython",
    "version": 3
   },
   "file_extension": ".py",
   "mimetype": "text/x-python",
   "name": "python",
   "nbconvert_exporter": "python",
   "pygments_lexer": "ipython3",
   "version": "3.7.3"
  }
 },
 "nbformat": 4,
 "nbformat_minor": 2
}
