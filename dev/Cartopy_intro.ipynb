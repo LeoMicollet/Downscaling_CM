{
 "cells": [
  {
   "cell_type": "markdown",
   "metadata": {},
   "source": [
    "# Cartopy introduction\n"
   ]
  },
  {
   "cell_type": "markdown",
   "metadata": {},
   "source": [
    "Still following the same link"
   ]
  },
  {
   "cell_type": "code",
   "execution_count": 1,
   "metadata": {},
   "outputs": [],
   "source": [
    "import numpy as np\n",
    "import xarray as xr\n",
    "import os\n",
    "from matplotlib import pyplot as plt\n",
    "%matplotlib inline\n",
    "import cartopy.crs as ccrs\n",
    "import cartopy\n",
    "\n",
    "\n",
    "path = \"/work/FAC/FGSE/IDYST/tbeucler/downscaling/HadGEM_driven_COSMO/Present/2003\"\n",
    "os.chdir(path)"
   ]
  },
  {
   "cell_type": "code",
   "execution_count": 2,
   "metadata": {},
   "outputs": [
    {
     "data": {
      "text/plain": [
       "<xarray.Dataset>\n",
       "Dimensions:       (bnds: 2, level1: 61, rlat: 1542, rlon: 1542, soil1: 10, srlat: 1542, srlon: 1542, time: 1)\n",
       "Coordinates:\n",
       "  * time          (time) datetime64[ns] 2003-01-01T03:00:00\n",
       "  * rlon          (rlon) float32 -18.86 -18.84 -18.82 ... 11.92 11.94 11.96\n",
       "  * rlat          (rlat) float32 -14.86 -14.84 -14.82 ... 15.92 15.94 15.96\n",
       "  * srlon         (srlon) float32 -18.85 -18.83 -18.81 ... 11.93 11.95 11.97\n",
       "  * srlat         (srlat) float32 -14.85 -14.83 -14.81 ... 15.93 15.95 15.97\n",
       "    lon           (rlat, rlon) float32 ...\n",
       "    lat           (rlat, rlon) float32 ...\n",
       "    height_2m     float32 ...\n",
       "    height_10m    float32 ...\n",
       "  * soil1         (soil1) float32 0.005 0.025 0.07 0.16 ... 1.47 2.86 5.74 11.5\n",
       "Dimensions without coordinates: bnds, level1\n",
       "Data variables:\n",
       "    time_bnds     (time, bnds) datetime64[ns] ...\n",
       "    rotated_pole  |S1 ...\n",
       "    slonu         (rlat, srlon) float32 ...\n",
       "    slatu         (rlat, srlon) float32 ...\n",
       "    slonv         (srlat, rlon) float32 ...\n",
       "    slatv         (srlat, rlon) float32 ...\n",
       "    vcoord        (level1) float32 ...\n",
       "    height_toa    float32 ...\n",
       "    wbt_13c       float32 ...\n",
       "    soil1_bnds    (soil1, bnds) float32 ...\n",
       "    U_10M         (time, rlat, rlon) float32 ...\n",
       "    V_10M         (time, rlat, rlon) float32 ...\n",
       "    T_2M          (time, rlat, rlon) float32 ...\n",
       "    T_G           (time, rlat, rlon) float32 ...\n",
       "    RELHUM_2M     (time, rlat, rlon) float32 ...\n",
       "    PS            (time, rlat, rlon) float32 ...\n",
       "    QV_2M         (time, rlat, rlon) float32 ...\n",
       "    QCVG_CON      (time, rlat, rlon) float32 ...\n",
       "    TOT_PR        (time, rlat, rlon) float32 ...\n",
       "    TQC           (time, rlat, rlon) float32 ...\n",
       "    TQI           (time, rlat, rlon) float32 ...\n",
       "    TQV           (time, rlat, rlon) float32 ...\n",
       "    CAPE_ML       (time, rlat, rlon) float32 ...\n",
       "    CIN_ML        (time, rlat, rlon) float32 ...\n",
       "    HPBL          (time, rlat, rlon) float32 ...\n",
       "    RUNOFF_S      (time, rlat, rlon) float32 ...\n",
       "    RUNOFF_G      (time, rlat, rlon) float32 ...\n",
       "    VMAX_10M      (time, rlat, rlon) float32 ...\n",
       "Attributes:\n",
       "    title:           CLM driven by EraINT\n",
       "    source:          COSMO_5.X_pompa\n",
       "    experiment_id:   evaluation\n",
       "    realization:     1\n",
       "    Conventions:     CF-1.4\n",
       "    conventionsURL:  http://www.cfconventions.org/\n",
       "    creation_date:   2019-03-12 09:10:11"
      ]
     },
     "execution_count": 2,
     "metadata": {},
     "output_type": "execute_result"
    }
   ],
   "source": [
    "pres_rand = xr.open_dataset(\"lffd20030101030000.nc\")\n",
    "latitude = 201\n",
    "longitude = 464\n",
    "pres_rand"
   ]
  },
  {
   "cell_type": "code",
   "execution_count": 3,
   "metadata": {},
   "outputs": [],
   "source": [
    "import glob\n",
    "\n",
    "filenames  = glob.glob(\"lffd*\")\n",
    "filenames = sorted(filenames)"
   ]
  },
  {
   "cell_type": "code",
   "execution_count": 18,
   "metadata": {},
   "outputs": [
    {
     "data": {
      "text/plain": [
       "89.04166666666667"
      ]
     },
     "execution_count": 18,
     "metadata": {},
     "output_type": "execute_result"
    }
   ],
   "source": [
    "filenames[:80*24] + filenames[356*24:])/24\n"
   ]
  }
 ],
 "metadata": {
  "kernelspec": {
   "display_name": "Python 3",
   "language": "python",
   "name": "python3"
  },
  "language_info": {
   "codemirror_mode": {
    "name": "ipython",
    "version": 3
   },
   "file_extension": ".py",
   "mimetype": "text/x-python",
   "name": "python",
   "nbconvert_exporter": "python",
   "pygments_lexer": "ipython3",
   "version": "3.7.3"
  }
 },
 "nbformat": 4,
 "nbformat_minor": 2
}
