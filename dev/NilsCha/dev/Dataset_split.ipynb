{
 "cells": [
  {
   "cell_type": "markdown",
   "id": "b388f035",
   "metadata": {},
   "source": [
    "## Dataset split"
   ]
  },
  {
   "cell_type": "code",
   "execution_count": 1,
   "id": "099d0926",
   "metadata": {},
   "outputs": [],
   "source": [
    "import os\n",
    "path = \"/work/FAC/FGSE/IDYST/tbeucler/downscaling/nchabloz/Downscaling_CM/dev/NilsCha/utils\"\n",
    "os.chdir(path)\n",
    "import dataset"
   ]
  },
  {
   "cell_type": "code",
   "execution_count": 2,
   "id": "848ae954",
   "metadata": {},
   "outputs": [],
   "source": [
    "path = \"/work/FAC/FGSE/IDYST/tbeucler/downscaling/HadGEM_driven_COSMO/Present/2003\"\n",
    "os.chdir(path)\n",
    "filenames = dataset.getfiles()"
   ]
  },
  {
   "cell_type": "code",
   "execution_count": null,
   "id": "d245a828",
   "metadata": {},
   "outputs": [
    {
     "name": "stdout",
     "output_type": "stream",
     "text": [
      "168\n"
     ]
    }
   ],
   "source": [
    "dataset.get_training_set(filenames)"
   ]
  },
  {
   "cell_type": "code",
   "execution_count": null,
   "id": "5a7b891e",
   "metadata": {},
   "outputs": [],
   "source": [
    "dataset.get_validation_set(filenames)"
   ]
  },
  {
   "cell_type": "code",
   "execution_count": null,
   "id": "cc324d8f",
   "metadata": {},
   "outputs": [],
   "source": [
    "dataset.get_testing_set(filenames)"
   ]
  }
 ],
 "metadata": {
  "kernelspec": {
   "display_name": "Python 3 (ipykernel)",
   "language": "python",
   "name": "python3"
  },
  "language_info": {
   "codemirror_mode": {
    "name": "ipython",
    "version": 3
   },
   "file_extension": ".py",
   "mimetype": "text/x-python",
   "name": "python",
   "nbconvert_exporter": "python",
   "pygments_lexer": "ipython3",
   "version": "3.10.4"
  },
  "toc": {
   "base_numbering": 1,
   "nav_menu": {},
   "number_sections": true,
   "sideBar": true,
   "skip_h1_title": false,
   "title_cell": "Table of Contents",
   "title_sidebar": "Contents",
   "toc_cell": false,
   "toc_position": {
    "height": "calc(100% - 180px)",
    "left": "10px",
    "top": "150px",
    "width": "165px"
   },
   "toc_section_display": true,
   "toc_window_display": true
  }
 },
 "nbformat": 4,
 "nbformat_minor": 5
}
